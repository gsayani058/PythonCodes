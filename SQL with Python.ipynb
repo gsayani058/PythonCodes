{
 "cells": [
  {
   "cell_type": "markdown",
   "id": "cb9c356f",
   "metadata": {},
   "source": [
    "# Create a Jupyter Notebook and Create functions to connect and fire queries : Select, insert, insert many, update, delete on the database."
   ]
  },
  {
   "cell_type": "code",
   "execution_count": 1,
   "id": "f65e4770",
   "metadata": {},
   "outputs": [
    {
     "name": "stdout",
     "output_type": "stream",
     "text": [
      "Requirement already satisfied: mysql_connector_python in c:\\users\\rimi\\anaconda3\\lib\\site-packages (8.0.32)\n",
      "Requirement already satisfied: protobuf<=3.20.3,>=3.11.0 in c:\\users\\rimi\\anaconda3\\lib\\site-packages (from mysql_connector_python) (3.20.3)\n"
     ]
    }
   ],
   "source": [
    "! pip install mysql_connector_python"
   ]
  },
  {
   "cell_type": "code",
   "execution_count": 2,
   "id": "b5d244b5",
   "metadata": {},
   "outputs": [],
   "source": [
    "import mysql.connector"
   ]
  },
  {
   "cell_type": "code",
   "execution_count": 3,
   "id": "44e641ab",
   "metadata": {},
   "outputs": [],
   "source": [
    "mydb = mysql.connector.connect(\n",
    "                        host = 'localhost',\n",
    "                        user = 'root',\n",
    "                        password = 'root')"
   ]
  },
  {
   "cell_type": "code",
   "execution_count": 12,
   "id": "25910098",
   "metadata": {},
   "outputs": [
    {
     "data": {
      "text/plain": [
       "[('demo',),\n",
       " ('demo10',),\n",
       " ('demo11',),\n",
       " ('demo12',),\n",
       " ('information_schema',),\n",
       " ('mysql',),\n",
       " ('performance_schema',),\n",
       " ('sakila',),\n",
       " ('sys',),\n",
       " ('world',)]"
      ]
     },
     "execution_count": 12,
     "metadata": {},
     "output_type": "execute_result"
    }
   ],
   "source": [
    "mycursor = mydb.cursor()\n",
    "mycursor.execute('CREATE DATABASE demo')\n",
    "mycursor.execute('show databases')\n",
    "list(mycursor)"
   ]
  },
  {
   "cell_type": "code",
   "execution_count": 13,
   "id": "81fd8f02",
   "metadata": {},
   "outputs": [],
   "source": [
    "mydb.commit()\n",
    "mydb.close()"
   ]
  },
  {
   "cell_type": "code",
   "execution_count": 14,
   "id": "62f91258",
   "metadata": {},
   "outputs": [],
   "source": [
    "mydb = mysql.connector.connect(\n",
    "                        host = 'localhost',\n",
    "                        user = 'root',\n",
    "                        password = 'root',\n",
    "                        database = 'demo11')\n",
    "mycursor = mydb.cursor()"
   ]
  },
  {
   "cell_type": "code",
   "execution_count": 15,
   "id": "8f925f36",
   "metadata": {},
   "outputs": [
    {
     "name": "stdout",
     "output_type": "stream",
     "text": [
      "('department',)\n",
      "('employee',)\n",
      "('employee1',)\n",
      "('student',)\n"
     ]
    }
   ],
   "source": [
    "mycursor.execute('show tables')\n",
    "for table in mycursor:\n",
    "    print(table)"
   ]
  },
  {
   "cell_type": "code",
   "execution_count": 36,
   "id": "89da98d4",
   "metadata": {},
   "outputs": [
    {
     "name": "stdout",
     "output_type": "stream",
     "text": [
      "('department',)\n",
      "('department1',)\n",
      "('employee2',)\n",
      "('student',)\n"
     ]
    }
   ],
   "source": [
    "Tables = ['employee', 'employee1']           # drop tables\n",
    "for db in Tables:\n",
    "    query = 'DROP Table {}'.format(db)\n",
    "    mycursor.execute(query)\n",
    "    \n",
    "mycursor.execute('show tables')\n",
    "for db in mycursor:\n",
    "    print(db)"
   ]
  },
  {
   "cell_type": "markdown",
   "id": "bb1b1ddb",
   "metadata": {},
   "source": [
    "## i.\tCreate a Table employee with following fields:\n",
    "a.\tEmpid        (Primary Key)\n",
    "b.\tFirst name\n",
    "Last name\n",
    "c.\tAge\n",
    "d.\tGender\n",
    "e.\tSalary\n",
    "f.\tCity\n",
    "g.\tDepartment\n"
   ]
  },
  {
   "cell_type": "code",
   "execution_count": 38,
   "id": "d5f1d4c1",
   "metadata": {},
   "outputs": [],
   "source": [
    "query = '''create table employee(\n",
    "                emp_id int unique not null,\n",
    "                first_name varchar(50),\n",
    "                last_name varchar(50),\n",
    "                age int ,\n",
    "                gender varchar(20) not null,\n",
    "                salary int not null,\n",
    "                city varchar(25) ,\n",
    "                department varchar(50) not null)'''\n",
    "\n",
    "mycursor.execute(query)\n",
    "        "
   ]
  },
  {
   "cell_type": "code",
   "execution_count": 39,
   "id": "a759649b",
   "metadata": {},
   "outputs": [],
   "source": [
    "query = '''insert into employee (emp_id, first_name, last_name, age, gender, salary, city, department)\n",
    "            values(%s, %s, %s, %s, %s, %s, %s, %s)'''\n",
    "\n",
    "val = [(101,'Sayani','Ghosh',23,'Female',30000,'Kolkata','Data Scientist'),\n",
    "       (102,'Swarnab','Ghosh',26,'Male',100000,'Kolkata','Data Scientist'),\n",
    "       (103,'Puja','Bose',24,'Female',60000,'Bangalore','Data Analyst'),\n",
    "       (104,'Prabir','Maity',25,'Male',70000,'Haldia','Data Analyst'),\n",
    "       (105,'Shibani','Patra',30,'Female',80000,'Delhi','Data Scientist')]\n",
    "       \n",
    "       \n",
    "mycursor.executemany(query, val)"
   ]
  },
  {
   "cell_type": "code",
   "execution_count": 40,
   "id": "3e50bfff",
   "metadata": {},
   "outputs": [
    {
     "name": "stdout",
     "output_type": "stream",
     "text": [
      "(101, 'Sayani', 'Ghosh', 23, 'Female', 30000, 'Kolkata', 'Data Scientist')\n",
      "(102, 'Swarnab', 'Ghosh', 26, 'Male', 100000, 'Kolkata', 'Data Scientist')\n",
      "(103, 'Puja', 'Bose', 24, 'Female', 60000, 'Bangalore', 'Data Analyst')\n",
      "(104, 'Prabir', 'Maity', 25, 'Male', 70000, 'Haldia', 'Data Analyst')\n",
      "(105, 'Shibani', 'Patra', 30, 'Female', 80000, 'Delhi', 'Data Scientist')\n"
     ]
    }
   ],
   "source": [
    "mycursor.execute('select * from employee')\n",
    "for row in mycursor:\n",
    "    print(row)"
   ]
  },
  {
   "cell_type": "markdown",
   "id": "55ad3d62",
   "metadata": {},
   "source": [
    "## Update Table"
   ]
  },
  {
   "cell_type": "code",
   "execution_count": 43,
   "id": "6110be29",
   "metadata": {},
   "outputs": [],
   "source": [
    "update = '''\n",
    "        update employee \n",
    "        Set salary = 200000\n",
    "        WHERE emp_id = 104;'''\n",
    "mycursor.execute(update)"
   ]
  },
  {
   "cell_type": "code",
   "execution_count": 44,
   "id": "3a6ba85d",
   "metadata": {},
   "outputs": [
    {
     "name": "stdout",
     "output_type": "stream",
     "text": [
      "(101, 'Sayani', 'Ghosh', 23, 'Female', 30000, 'Kolkata', 'Data Scientist')\n",
      "(102, 'Swarnab', 'Ghosh', 26, 'Male', 100000, 'Kolkata', 'Data Scientist')\n",
      "(103, 'Puja', 'Bose', 24, 'Female', 60000, 'Bangalore', 'Data Analyst')\n",
      "(104, 'Prabir', 'Maity', 25, 'Male', 200000, 'Haldia', 'Data Analyst')\n",
      "(105, 'Shibani', 'Patra', 30, 'Female', 80000, 'Delhi', 'Data Scientist')\n"
     ]
    }
   ],
   "source": [
    "mycursor.execute('select * from employee')\n",
    "for row in mycursor:\n",
    "    print(row)"
   ]
  },
  {
   "cell_type": "markdown",
   "id": "0cb9b007",
   "metadata": {},
   "source": [
    "## ii.\tCreate a table department with following fields:\n",
    "i.\tDeptid\n",
    "ii.\tDeptname\n",
    "    "
   ]
  },
  {
   "cell_type": "code",
   "execution_count": 23,
   "id": "266549c7",
   "metadata": {},
   "outputs": [],
   "source": [
    "query1 = '''create table department1(\n",
    "                dept_id int unique not null,\n",
    "                dept_name varchar(50) not null,\n",
    "                location varchar(50))'''\n",
    "mycursor.execute(query1)"
   ]
  },
  {
   "cell_type": "code",
   "execution_count": 24,
   "id": "6e28c080",
   "metadata": {},
   "outputs": [
    {
     "name": "stdout",
     "output_type": "stream",
     "text": [
      "('department',)\n",
      "('department1',)\n",
      "('employee',)\n",
      "('employee1',)\n",
      "('employee2',)\n",
      "('student',)\n"
     ]
    }
   ],
   "source": [
    "mycursor.execute('show tables')\n",
    "for table in mycursor:\n",
    "    print(table)"
   ]
  },
  {
   "cell_type": "code",
   "execution_count": 25,
   "id": "bf8372fe",
   "metadata": {},
   "outputs": [],
   "source": [
    "query1 = '''insert into department1 (dept_id, dept_name, location)\n",
    "            values(%s, %s, %s)'''\n",
    "\n",
    "val = [(101, 'CSE', 'Kolkata'),\n",
    "      (102, 'EE', 'Haldia'),\n",
    "      (103, 'BCA', 'Bangalore'),\n",
    "      (104, 'CST', 'Kolkata'),\n",
    "      (105, 'Data Science', 'Bangalore')]\n",
    "\n",
    "mycursor.executemany(query1, val)"
   ]
  },
  {
   "cell_type": "code",
   "execution_count": 26,
   "id": "a40864ed",
   "metadata": {},
   "outputs": [
    {
     "name": "stdout",
     "output_type": "stream",
     "text": [
      "(101, 'CSE', 'Kolkata')\n",
      "(102, 'EE', 'Haldia')\n",
      "(103, 'BCA', 'Bangalore')\n",
      "(104, 'CST', 'Kolkata')\n",
      "(105, 'Data Science', 'Bangalore')\n"
     ]
    }
   ],
   "source": [
    "mycursor.execute('select * from department1')\n",
    "for row in mycursor:\n",
    "    print(row)"
   ]
  },
  {
   "cell_type": "markdown",
   "id": "53bf1070",
   "metadata": {},
   "source": [
    "## DELETE"
   ]
  },
  {
   "cell_type": "code",
   "execution_count": 45,
   "id": "6ba8df04",
   "metadata": {},
   "outputs": [],
   "source": [
    "delete = \"\"\"\n",
    "        delete from department1 \n",
    "        where dept_id = 104; \"\"\"\n",
    "\n",
    "mycursor.execute(delete)"
   ]
  },
  {
   "cell_type": "code",
   "execution_count": 46,
   "id": "eeef2376",
   "metadata": {},
   "outputs": [
    {
     "name": "stdout",
     "output_type": "stream",
     "text": [
      "(101, 'CSE', 'Kolkata')\n",
      "(102, 'EE', 'Haldia')\n",
      "(103, 'BCA', 'Bangalore')\n",
      "(105, 'Data Science', 'Bangalore')\n"
     ]
    }
   ],
   "source": [
    "mycursor.execute('select * from department1')\n",
    "for row in mycursor:\n",
    "    print(row)"
   ]
  }
 ],
 "metadata": {
  "kernelspec": {
   "display_name": "Python 3 (ipykernel)",
   "language": "python",
   "name": "python3"
  },
  "language_info": {
   "codemirror_mode": {
    "name": "ipython",
    "version": 3
   },
   "file_extension": ".py",
   "mimetype": "text/x-python",
   "name": "python",
   "nbconvert_exporter": "python",
   "pygments_lexer": "ipython3",
   "version": "3.9.13"
  }
 },
 "nbformat": 4,
 "nbformat_minor": 5
}
